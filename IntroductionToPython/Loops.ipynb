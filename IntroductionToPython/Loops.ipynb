{
  "nbformat": 4,
  "nbformat_minor": 0,
  "metadata": {
    "colab": {
      "name": "Loops.ipynb",
      "provenance": [],
      "collapsed_sections": []
    },
    "kernelspec": {
      "name": "python3",
      "display_name": "Python 3"
    },
    "language_info": {
      "name": "python"
    }
  },
  "cells": [
    {
      "cell_type": "code",
      "execution_count": 1,
      "metadata": {
        "colab": {
          "base_uri": "https://localhost:8080/"
        },
        "id": "cvx2cdhsiPVh",
        "outputId": "1bd9976c-ace8-4898-81c6-83ab219102b2"
      },
      "outputs": [
        {
          "output_type": "stream",
          "name": "stdout",
          "text": [
            "Mounted at /content/drive\n"
          ]
        }
      ],
      "source": [
        "from google.colab import drive\n",
        "drive.mount('/content/drive')"
      ]
    },
    {
      "cell_type": "code",
      "source": [
        "import numpy as np \n",
        "import pandas as pd\n",
        "import matplotlib.pyplot as plt\n",
        "import seaborn as sns"
      ],
      "metadata": {
        "id": "EspVvgmSkPtn"
      },
      "execution_count": 8,
      "outputs": []
    },
    {
      "cell_type": "code",
      "source": [
        "from subprocess import check_output\n",
        "print(check_output([\"ls\", \"/content/pokemon.csv\"]).decode(\"utf8\"))\n",
        "\n",
        "import os\n",
        "for dirname, _, filenames in os.walk(\"/kaggle/input\"):\n",
        "    for filename in filenames:\n",
        "        print(os.path.join(dirname, filename))"
      ],
      "metadata": {
        "colab": {
          "base_uri": "https://localhost:8080/"
        },
        "id": "ZNezECx1kSEA",
        "outputId": "7981992f-e4b8-473e-d6cd-07add0e95500"
      },
      "execution_count": 10,
      "outputs": [
        {
          "output_type": "stream",
          "name": "stdout",
          "text": [
            "/content/pokemon.csv\n",
            "\n"
          ]
        }
      ]
    },
    {
      "cell_type": "code",
      "source": [
        "pokemon=pd.read_csv('pokemon.csv')"
      ],
      "metadata": {
        "id": "PjXikSlYkXaX"
      },
      "execution_count": 11,
      "outputs": []
    },
    {
      "cell_type": "markdown",
      "source": [
        "***Döngüler***\n",
        "\n",
        "---\n",
        "Sürecin tekrar tekrar devam etmesi döngü(loop) işlemleri ile yapılır.Programların tekrar tekrar çalışabilmesi için döngülerden yararlanılır.\n"
      ],
      "metadata": {
        "id": "DMbUW7KUihlG"
      }
    },
    {
      "cell_type": "code",
      "source": [
        "i = 0\n",
        "while i != 5 :\n",
        "    print('i is: ',i)\n",
        "    i +=1\n",
        "print(i,' is equal to 5')"
      ],
      "metadata": {
        "colab": {
          "base_uri": "https://localhost:8080/"
        },
        "id": "_etGPYnhjLJF",
        "outputId": "6e7ff2a5-a951-4ba6-b463-dc013678b014"
      },
      "execution_count": 2,
      "outputs": [
        {
          "output_type": "stream",
          "name": "stdout",
          "text": [
            "i is:  0\n",
            "i is:  1\n",
            "i is:  2\n",
            "i is:  3\n",
            "i is:  4\n",
            "5  is equal to 5\n"
          ]
        }
      ]
    },
    {
      "cell_type": "code",
      "source": [
        "list= [1,2,3,4,5] #liste elemanlarını döngü kullanarak yazdırılması\n",
        "for i in list:\n",
        "    print('i is: ',i)\n",
        "print('')"
      ],
      "metadata": {
        "colab": {
          "base_uri": "https://localhost:8080/"
        },
        "id": "zq9hjnOYjQQD",
        "outputId": "0401c091-340d-4085-9e86-1c4187c2dd90"
      },
      "execution_count": 4,
      "outputs": [
        {
          "output_type": "stream",
          "name": "stdout",
          "text": [
            "i is:  1\n",
            "i is:  2\n",
            "i is:  3\n",
            "i is:  4\n",
            "i is:  5\n",
            "\n"
          ]
        }
      ]
    },
    {
      "cell_type": "code",
      "source": [
        "for index, value in enumerate(list):\n",
        "    print(index,\" : \",value)\n",
        "print('')"
      ],
      "metadata": {
        "colab": {
          "base_uri": "https://localhost:8080/"
        },
        "id": "Ci6fjmB6jepg",
        "outputId": "4b75ab8f-c2c2-4eb0-e33b-83014a52141f"
      },
      "execution_count": 5,
      "outputs": [
        {
          "output_type": "stream",
          "name": "stdout",
          "text": [
            "0  :  1\n",
            "1  :  2\n",
            "2  :  3\n",
            "3  :  4\n",
            "4  :  5\n",
            "\n"
          ]
        }
      ]
    },
    {
      "cell_type": "code",
      "source": [
        "dictionary={\"computer\":\"bilgisayar\", \"driver\":\"sürücü\", \"memory\":\"hafıza\",\"software\":\"yazılım\"}\n",
        "for key,value in dictionary.items(): #sözlükte tek tek key,value değerlerini döngü yardımıyla yazdırıldı.\n",
        "  print(key,\":\",value)\n",
        "print('')"
      ],
      "metadata": {
        "colab": {
          "base_uri": "https://localhost:8080/"
        },
        "id": "nSUAqmvbjnKV",
        "outputId": "3b27cd45-c9a3-4df6-d408-fc4c1609cd13"
      },
      "execution_count": 7,
      "outputs": [
        {
          "output_type": "stream",
          "name": "stdout",
          "text": [
            "computer : bilgisayar\n",
            "driver : sürücü\n",
            "memory : hafıza\n",
            "software : yazılım\n",
            "\n"
          ]
        }
      ]
    },
    {
      "cell_type": "code",
      "source": [
        "for index,value in pokemon[['Attack']][0:1].iterrows():\n",
        "    print(index,\" : \",value)"
      ],
      "metadata": {
        "colab": {
          "base_uri": "https://localhost:8080/"
        },
        "id": "rcBZPjH3j8mo",
        "outputId": "afd2131a-2d6d-49db-e61b-a8c9f57c3248"
      },
      "execution_count": 13,
      "outputs": [
        {
          "output_type": "stream",
          "name": "stdout",
          "text": [
            "0  :  Attack    49\n",
            "Name: 0, dtype: int64\n"
          ]
        }
      ]
    },
    {
      "cell_type": "code",
      "source": [
        ""
      ],
      "metadata": {
        "id": "gJ9DZxuukfip"
      },
      "execution_count": null,
      "outputs": []
    }
  ]
}