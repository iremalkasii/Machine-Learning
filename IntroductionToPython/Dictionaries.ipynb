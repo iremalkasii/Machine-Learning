{
  "nbformat": 4,
  "nbformat_minor": 0,
  "metadata": {
    "colab": {
      "name": "Dictionaries.ipynb",
      "provenance": [],
      "collapsed_sections": []
    },
    "kernelspec": {
      "name": "python3",
      "display_name": "Python 3"
    },
    "language_info": {
      "name": "python"
    }
  },
  "cells": [
    {
      "cell_type": "code",
      "execution_count": 1,
      "metadata": {
        "colab": {
          "base_uri": "https://localhost:8080/"
        },
        "id": "6DV52vF-UvAO",
        "outputId": "d14a8cc4-1e8f-4017-817e-5c733254ad3a"
      },
      "outputs": [
        {
          "output_type": "stream",
          "name": "stdout",
          "text": [
            "Mounted at /content/drive\n"
          ]
        }
      ],
      "source": [
        "from google.colab import drive\n",
        "drive.mount('/content/drive')"
      ]
    },
    {
      "cell_type": "markdown",
      "source": [
        "***Dictionaries***\n",
        "\n",
        "---\n",
        " Sözlüklerde Tuple ve List veri türleri gibi farklı veri türleri bulunur. Listeler gibi birden falza elemanı bir araya toplayan bir yapıdır.\n",
        " Lİste ile farkı ; listelerdeki gibi indeksler üzerinden doğal bir sıra yoktur.\n",
        " Sözlük birleşmeli dizi(associative array) olarak anılan bir veri yapısıdır.\n",
        " Bu yapıdaki her eleman bir anahtar-değer(key-value) çiftinden oluşur.\n"
      ],
      "metadata": {
        "id": "BX1YtSg0VoFC"
      }
    },
    {
      "cell_type": "code",
      "source": [
        "dictionary={\"computer\":\"bilgisayar\", \"driver\":\"sürücü\", \"memory\":\"hafıza\",\"software\":\"yazılım\"}\n",
        "print(dictionary.keys())      #sözlük tanımlaması yaptık sözlük={\"key\":\"value\"}, keys ve value değerlerini yazdırdık\n",
        "print(dictionary.values())"
      ],
      "metadata": {
        "colab": {
          "base_uri": "https://localhost:8080/"
        },
        "id": "dwprzuLkW5Gp",
        "outputId": "fdcf7225-8438-41f1-ad98-bf2f17a3c3e0"
      },
      "execution_count": 16,
      "outputs": [
        {
          "output_type": "stream",
          "name": "stdout",
          "text": [
            "dict_keys(['computer', 'driver', 'memory', 'software'])\n",
            "dict_values(['bilgisayar', 'sürücü', 'hafıza', 'yazılım'])\n"
          ]
        }
      ]
    },
    {
      "cell_type": "code",
      "source": [
        "dictionary[\"computer\"]=\"Treiber\"\n",
        "print(dictionary)         #sözlükler mutable(değiştirilebilir)dir.Sözcüğün türkçe karşılığı Almanca olarak değiştirildi."
      ],
      "metadata": {
        "colab": {
          "base_uri": "https://localhost:8080/"
        },
        "id": "Oj_0OGsvXggB",
        "outputId": "0dbcc147-3edd-463c-e7c5-d1009caa160a"
      },
      "execution_count": 17,
      "outputs": [
        {
          "output_type": "stream",
          "name": "stdout",
          "text": [
            "{'computer': 'Treiber', 'driver': 'sürücü', 'memory': 'hafıza', 'software': 'yazılım'}\n"
          ]
        }
      ]
    },
    {
      "cell_type": "code",
      "source": [
        "del dictionary[\"computer\"]  #computer key value ile birlikte listeden silindi.\n",
        "print(dictionary)"
      ],
      "metadata": {
        "colab": {
          "base_uri": "https://localhost:8080/"
        },
        "id": "qVUrHYfAYZP3",
        "outputId": "d51e351a-6fb4-477a-fa22-02c5a9b9fc90"
      },
      "execution_count": 18,
      "outputs": [
        {
          "output_type": "stream",
          "name": "stdout",
          "text": [
            "{'driver': 'sürücü', 'memory': 'hafıza', 'software': 'yazılım'}\n"
          ]
        }
      ]
    },
    {
      "cell_type": "code",
      "source": [
        "print(\"memory\" in dictionary)\n",
        "dictionary.clear()   #sözlük memory key'ini içeriyorsa listeyi temizle.\n",
        "print(dictionary)"
      ],
      "metadata": {
        "colab": {
          "base_uri": "https://localhost:8080/"
        },
        "id": "5CmiQB4XZGqG",
        "outputId": "254a27b0-5938-4104-e046-48771316f7c5"
      },
      "execution_count": 19,
      "outputs": [
        {
          "output_type": "stream",
          "name": "stdout",
          "text": [
            "True\n",
            "{}\n"
          ]
        }
      ]
    },
    {
      "cell_type": "code",
      "source": [
        ""
      ],
      "metadata": {
        "id": "0jJ4agF2Zhgg"
      },
      "execution_count": null,
      "outputs": []
    }
  ]
}