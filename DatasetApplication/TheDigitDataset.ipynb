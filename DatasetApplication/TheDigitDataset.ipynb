{
  "nbformat": 4,
  "nbformat_minor": 0,
  "metadata": {
    "colab": {
      "name": "TheDigitDataset.ipynb",
      "provenance": [],
      "collapsed_sections": [],
      "toc_visible": true
    },
    "kernelspec": {
      "name": "python3",
      "display_name": "Python 3"
    },
    "language_info": {
      "name": "python"
    }
  },
  "cells": [
    {
      "cell_type": "markdown",
      "source": [
        "**The Digit Dataset**\n",
        "* Bu veri seti 1797 8x8 görüntüden oluşmaktadır. Aşağıda gösterilen gibi her görüntü, elle yazılmış bir rakamdır. 8x8'lik bir figürü böyle kullanabilmek için önce onu 64 uzunluğunda bir öznitelik vektörüne dönüştürmemiz gerekir.\n",
        "\n",
        "\n"
      ],
      "metadata": {
        "id": "XeoyFlHtgpQK"
      }
    },
    {
      "cell_type": "code",
      "execution_count": 1,
      "metadata": {
        "id": "hh9yBqgJgi9s"
      },
      "outputs": [],
      "source": [
        "from sklearn import datasets\n",
        "\n",
        "import matplotlib.pyplot as plt"
      ]
    },
    {
      "cell_type": "code",
      "source": [
        "digits = datasets.load_digits()"
      ],
      "metadata": {
        "id": "v3HU2fF8igCe"
      },
      "execution_count": 2,
      "outputs": []
    },
    {
      "cell_type": "code",
      "source": [
        "plt.figure(1, figsize=(3, 3))\n",
        "plt.imshow(digits.images[-1], cmap=plt.cm.gray_r, interpolation=\"nearest\")\n",
        "plt.show()"
      ],
      "metadata": {
        "colab": {
          "base_uri": "https://localhost:8080/",
          "height": 211
        },
        "id": "9j1I5iX3ijDv",
        "outputId": "bdbbbc63-769f-4995-cbd5-0c55cd15cbf9"
      },
      "execution_count": 3,
      "outputs": [
        {
          "output_type": "display_data",
          "data": {
            "text/plain": [
              "<Figure size 216x216 with 1 Axes>"
            ],
            "image/png": "[encoded data removed]"
          },
          "metadata": {
            "needs_background": "light"
          }
        }
      ]
    }
  ]
}