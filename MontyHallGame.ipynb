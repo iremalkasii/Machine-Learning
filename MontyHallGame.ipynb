{
  "nbformat": 4,
  "nbformat_minor": 0,
  "metadata": {
    "colab": {
      "name": "MontyHallGame.ipynb",
      "provenance": [],
      "authorship_tag": "ABX9TyODXvXsUlI5FJpKTmMQpcu4",
      "include_colab_link": true
    },
    "kernelspec": {
      "name": "python3",
      "display_name": "Python 3"
    },
    "language_info": {
      "name": "python"
    }
  },
  "cells": [
    {
      "cell_type": "markdown",
      "metadata": {
        "id": "view-in-github",
        "colab_type": "text"
      },
      "source": [
        "<a href=\"https://colab.research.google.com/github/iremalkasii/Machine-Learning/blob/main/MontyHallGame.ipynb\" target=\"_parent\"><img src=\"https://colab.research.google.com/assets/colab-badge.svg\" alt=\"Open In Colab\"/></a>"
      ]
    },
    {
      "cell_type": "markdown",
      "source": [
        "**Monty Hall**\n",
        "\n",
        "Monty Hall problemi ismini amerikan televizyonlarında yayınlanan bir yarışma programının sunucusundan alır. Basit bir olasılık sorusudur. Soru şöyledir;\n",
        "Yarişmadaki üç kapıdan birinin arkasında son model araba, diğer ikisinin arkasında ise keçi vardır. Yarışmacının amacı, arabının bulunduğu kapıyı tahmin edip arabayı almaktır.\n",
        "(Sunucu hangi kapının ardında araba olduğunu bilmektedir) Yarışmacının arabayı bulma olasılığı 1/3'tür. Yarşmacının seçtiği kapı açılmadan önce Monty Hall, arkasında keçi olan bir kapıyı açar. \n",
        "\n",
        "Monty Hall, yarışmacının seçtiği kapıyı açmadan önceyarışmacıya yeni bir seçim yapma hakkı tanır. Yarışmacı ya ilk seçtiği kapı ile devam eder ya da fikrini değiştirip diğer kapıyı seçer. Son olarak seçilen kapı açılır ve yarışmacının arabayı kazanıp kazanamadığı belli olur.\n",
        "\n",
        "\n",
        "Ortaya çıkan soru ise şu; sizce ikinci seçimde seçimini değiştirmesi arabayı kazanma olasılığını arttırır mı?\n",
        "cevap evet ise doğru!\n",
        "\n",
        "Öncelikle üç kapı arasından arabayı kazanma olasılığı 1/3. Sunucu arkasında keçi olan bir kapıyı açıp geriye iki kapı bıraktığı zaman yarışmacının ilk seçtiği kapı ile arabayı kazanma olasılığı hâlâ 1/3’tür. Yani 2/3 olasılıkla araba yarışmacının seçmediği diğer kapının arkasındadır. Bu sebeple yarışmacı son aşamada seçimini değiştirirse arabayı kazanma olasılığını artırır.\n",
        "\n"
      ],
      "metadata": {
        "id": "BDp3-jZ3mjVb"
      }
    },
    {
      "cell_type": "code",
      "source": [
        "import random\n"
      ],
      "metadata": {
        "id": "Z8a3shoBpwgi"
      },
      "execution_count": 1,
      "outputs": []
    },
    {
      "cell_type": "code",
      "source": [
        "A=\"A\"\n",
        "B=\"B\"\n",
        "C=\"C\"\n",
        "\n",
        "doors=[\"A\",\"B\",\"C\"]\n",
        "prize=random.choice(doors)\n",
        "\n",
        "selection= input(\"Select door 'A', 'B', or 'C': \")\n",
        "print (\"This problem relies on conditional probabilities. It is suggested that you switch doors, you will have a higher probability of winning of you do.\")\n",
        "\n",
        "\n",
        "if selection==prize:\n",
        "  if selection == prize:\n",
        "        remaining = list((doors) - set(prize))\n",
        "        open_door = random.choice(list(set(doors) - set(random.choice(remaining))))\n",
        "        alternate = random.choice(list(set(doors) - set(open_door) - set(prize)))\n",
        "\n",
        "else:\n",
        "        open_door = random.choice(list(set(doors) - set(selection) - set(prize)))\n",
        "        alternate = random.choice(list(set(doors) - set(open_door) - set(selection)))\n",
        "\n",
        "print (\" The door I will now open is: %r % open_door\")\n",
        "\n",
        "second_chance = input(\"Would you like to select door? Type 'Y' or 'N': \")\n",
        "\n",
        "if second_chance == \"Yes\":\n",
        "        print(\"The door you will switch to is: %r \" % alternate)\n",
        "\n",
        "        if alternate == prize:\n",
        "                print(\"Congrats, you win! The prize was behind the alternate, %r\" % alternate)\n",
        "        else:\n",
        "                print(\"Sorry, the prize was behind the original door %r\" % prize)\n",
        "\n",
        "\n",
        "if second_chance != \"Yes\":\n",
        "        print(\" You decided to keep your initial door, %r\" % selection)\n",
        "        if selection != prize:\n",
        "                print(\"Sorry, the prize was behind the alternate door, %r\"% prize)\n",
        "        else:\n",
        "                print(\"Congrats, you win! The prize was behind your original selection, %r\" % selection)\n",
        "\n",
        "\n",
        "print(\"This is a check:\")\n",
        "\n",
        "print (\"Prize: %r\" % prize)\n",
        "print (\"Selection: %r \" % selection)\n",
        "print (\"Alternate: %r \" % alternate)\n",
        "print (\"Door opened: %r \" % open_door)\n",
        "\n",
        "\n",
        "\n",
        "\n",
        "\n",
        "\n",
        "\n"
      ],
      "metadata": {
        "colab": {
          "base_uri": "https://localhost:8080/"
        },
        "id": "cMt6gL1sqdzY",
        "outputId": "e57feb9e-fce0-4d5c-b789-e5cd228364cd"
      },
      "execution_count": 10,
      "outputs": [
        {
          "output_type": "stream",
          "name": "stdout",
          "text": [
            "Select door 'A', 'B', or 'C': C\n",
            "This problem relies on conditional probabilities. It is suggested that you switch doors, you will have a higher probability of winning of you do.\n",
            " The door I will now open is: %r % open_door\n",
            "Would you like to select the third door? Type 'Yes' or 'No': Y\n",
            " You decided to keep your initial door, 'C'\n",
            "Sorry, the prize was behind the alternate door, 'A'\n",
            "This is a check:\n",
            "Prize: 'A'\n",
            "Selection: 'C' \n",
            "Alternate: 'A' \n",
            "Door opened: 'B' \n"
          ]
        }
      ]
    },
    {
      "cell_type": "markdown",
      "source": [
        ""
      ],
      "metadata": {
        "id": "YU-IQvXQpos_"
      }
    }
  ]
}