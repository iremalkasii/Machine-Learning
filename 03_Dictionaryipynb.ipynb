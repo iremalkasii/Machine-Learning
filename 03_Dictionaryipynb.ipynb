{
  "nbformat": 4,
  "nbformat_minor": 0,
  "metadata": {
    "colab": {
      "name": "03.Dictionaryipynb",
      "provenance": [],
      "collapsed_sections": [],
      "authorship_tag": "ABX9TyPt2O3qQFKTMYIoxpLMViDQ",
      "include_colab_link": true
    },
    "kernelspec": {
      "name": "python3",
      "display_name": "Python 3"
    },
    "language_info": {
      "name": "python"
    }
  },
  "cells": [
    {
      "cell_type": "markdown",
      "metadata": {
        "id": "view-in-github",
        "colab_type": "text"
      },
      "source": [
        "<a href=\"https://colab.research.google.com/github/iremalkasii/Machine-Learning/blob/main/03_Dictionaryipynb.ipynb\" target=\"_parent\"><img src=\"https://colab.research.google.com/assets/colab-badge.svg\" alt=\"Open In Colab\"/></a>"
      ]
    },
    {
      "cell_type": "markdown",
      "source": [
        "***Sözlükler de bir koleksiyondur.*** Index mantığıyla çalışmazlar"
      ],
      "metadata": {
        "id": "-pO1Vhz90WSl"
      }
    },
    {
      "cell_type": "markdown",
      "source": [
        "## ***key-value pairing(anahtar kelime-değer eşleşmesi)\\***"
      ],
      "metadata": {
        "id": "98-Pj5PN0vWW"
      }
    },
    {
      "cell_type": "code",
      "source": [
        "meyveler=[\"elma\",\"karpuz\",\"muz\"]"
      ],
      "metadata": {
        "id": "NFqw9MkE0_eH"
      },
      "execution_count": null,
      "outputs": []
    },
    {
      "cell_type": "code",
      "source": [
        "kaloriler=[100,200,300]"
      ],
      "metadata": {
        "id": "kA6RS7jz1L22"
      },
      "execution_count": null,
      "outputs": []
    },
    {
      "cell_type": "code",
      "source": [
        "myDictionaries={\"elma\":100, \"karpuz\":200, \"muz\":300}\n",
        "type(myDictionaries)"
      ],
      "metadata": {
        "colab": {
          "base_uri": "https://localhost:8080/"
        },
        "id": "qSobFrjD1RHI",
        "outputId": "3a4756ea-1aa4-4682-cfae-b90bb0bc5740"
      },
      "execution_count": null,
      "outputs": [
        {
          "output_type": "execute_result",
          "data": {
            "text/plain": [
              "dict"
            ]
          },
          "metadata": {},
          "execution_count": 4
        }
      ]
    },
    {
      "cell_type": "code",
      "source": [
        "myDictionaries[\"muz\"]"
      ],
      "metadata": {
        "colab": {
          "base_uri": "https://localhost:8080/"
        },
        "id": "1-Pxi0xo1sku",
        "outputId": "52e1657b-9998-4432-da54-819850df7b5b"
      },
      "execution_count": null,
      "outputs": [
        {
          "output_type": "execute_result",
          "data": {
            "text/plain": [
              "300"
            ]
          },
          "metadata": {},
          "execution_count": 5
        }
      ]
    },
    {
      "cell_type": "code",
      "source": [
        "myDictionaries[\"elma\"]=200\n",
        "myDictionaries #değer değiştirebiliriz."
      ],
      "metadata": {
        "colab": {
          "base_uri": "https://localhost:8080/"
        },
        "id": "wIoNWvAF1xY0",
        "outputId": "580d8c7b-94d6-4426-dd8f-16e6bd31d6df"
      },
      "execution_count": null,
      "outputs": [
        {
          "output_type": "execute_result",
          "data": {
            "text/plain": [
              "{'elma': 200, 'karpuz': 200, 'muz': 300}"
            ]
          },
          "metadata": {},
          "execution_count": 6
        }
      ]
    },
    {
      "cell_type": "code",
      "source": [
        "yeniDictionary={\"anahtar\":100, \"anahtar2\":[10,20,30,40,4,-5,\"irem\"],\"anahtar3\":{\"anahtar9\":4}}"
      ],
      "metadata": {
        "id": "WxVmaGVA1dwa"
      },
      "execution_count": null,
      "outputs": []
    },
    {
      "cell_type": "code",
      "source": [
        "yeniDictionary.keys()"
      ],
      "metadata": {
        "colab": {
          "base_uri": "https://localhost:8080/"
        },
        "id": "J8EvjL832dGo",
        "outputId": "83226378-3ac6-430a-9a35-a3d05e3311a7"
      },
      "execution_count": null,
      "outputs": [
        {
          "output_type": "execute_result",
          "data": {
            "text/plain": [
              "dict_keys(['anahtar', 'anahtar2', 'anahtar3'])"
            ]
          },
          "metadata": {},
          "execution_count": 9
        }
      ]
    },
    {
      "cell_type": "code",
      "source": [
        "yeniDictionary[\"anahtar2\"][-1]"
      ],
      "metadata": {
        "colab": {
          "base_uri": "https://localhost:8080/",
          "height": 35
        },
        "id": "vzwzK7Qq21dt",
        "outputId": "af3b11e0-4a11-4dda-d0b4-2a7eb5b16eed"
      },
      "execution_count": null,
      "outputs": [
        {
          "output_type": "execute_result",
          "data": {
            "application/vnd.google.colaboratory.intrinsic+json": {
              "type": "string"
            },
            "text/plain": [
              "'irem'"
            ]
          },
          "metadata": {},
          "execution_count": 10
        }
      ]
    },
    {
      "cell_type": "code",
      "source": [
        "myList=[1,2,3,1,2,3]"
      ],
      "metadata": {
        "id": "rzIJP7uz-Oje"
      },
      "execution_count": null,
      "outputs": []
    },
    {
      "cell_type": "code",
      "source": [
        "mySetList=set(myList)"
      ],
      "metadata": {
        "id": "z-CpaoKs_UVG"
      },
      "execution_count": null,
      "outputs": []
    },
    {
      "cell_type": "code",
      "source": [
        "type(mySetList)"
      ],
      "metadata": {
        "colab": {
          "base_uri": "https://localhost:8080/"
        },
        "id": "g4wXkg8f_bjP",
        "outputId": "85241600-1041-4c34-8b60-61159d75521b"
      },
      "execution_count": null,
      "outputs": [
        {
          "output_type": "execute_result",
          "data": {
            "text/plain": [
              "set"
            ]
          },
          "metadata": {},
          "execution_count": 3
        }
      ]
    },
    {
      "cell_type": "code",
      "source": [
        "mySetList #aynı elemandan birden fazla olanları atar."
      ],
      "metadata": {
        "colab": {
          "base_uri": "https://localhost:8080/"
        },
        "id": "4vuFgrm8_f0W",
        "outputId": "68a8dec0-fc67-427d-b26c-09b3fa3af542"
      },
      "execution_count": null,
      "outputs": [
        {
          "output_type": "execute_result",
          "data": {
            "text/plain": [
              "{1, 2, 3}"
            ]
          },
          "metadata": {},
          "execution_count": 4
        }
      ]
    },
    {
      "cell_type": "code",
      "source": [
        "mySet={\"a\",\"b\",\"c\",\"a\"}"
      ],
      "metadata": {
        "id": "pNByYDZ1_nPW"
      },
      "execution_count": null,
      "outputs": []
    },
    {
      "cell_type": "code",
      "source": [
        "emptySet={}"
      ],
      "metadata": {
        "id": "PoMCVMuD_5NM"
      },
      "execution_count": null,
      "outputs": []
    },
    {
      "cell_type": "code",
      "source": [
        "type(emptySet) #seti boş tanımlamak istediğimizde sözlük olarak algılanır. Boş set tanımlamak için aşağıdaki yöntemi kullanacağız.\n",
        "emptySet=set()\n",
        "type(emptySet)"
      ],
      "metadata": {
        "colab": {
          "base_uri": "https://localhost:8080/"
        },
        "id": "1w24WaQXAKBk",
        "outputId": "8d2226b0-250f-4c27-a8c8-55901e840ac8"
      },
      "execution_count": null,
      "outputs": [
        {
          "output_type": "execute_result",
          "data": {
            "text/plain": [
              "set"
            ]
          },
          "metadata": {},
          "execution_count": 10
        }
      ]
    },
    {
      "cell_type": "code",
      "source": [
        "emptySet.add(10)\n",
        "emptySet.add(10)\n",
        "emptySet.add(20)"
      ],
      "metadata": {
        "id": "yTm3nkw8An4J"
      },
      "execution_count": null,
      "outputs": []
    },
    {
      "cell_type": "code",
      "source": [
        "emptySet"
      ],
      "metadata": {
        "colab": {
          "base_uri": "https://localhost:8080/"
        },
        "id": "tuLkztz9A_ib",
        "outputId": "c6277e19-e7ea-48e0-fded-abb97f535d48"
      },
      "execution_count": null,
      "outputs": [
        {
          "output_type": "execute_result",
          "data": {
            "text/plain": [
              "{10, 20}"
            ]
          },
          "metadata": {},
          "execution_count": 15
        }
      ]
    },
    {
      "cell_type": "code",
      "source": [
        ""
      ],
      "metadata": {
        "id": "LUwL_bcbA3NV"
      },
      "execution_count": null,
      "outputs": []
    }
  ]
}